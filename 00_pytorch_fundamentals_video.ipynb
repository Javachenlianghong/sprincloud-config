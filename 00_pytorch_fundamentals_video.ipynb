{
  "nbformat": 4,
  "nbformat_minor": 0,
  "metadata": {
    "colab": {
      "provenance": [],
      "gpuType": "T4",
      "authorship_tag": "ABX9TyPrNETivcEuERHPBDGL1DuC",
      "include_colab_link": true
    },
    "kernelspec": {
      "name": "python3",
      "display_name": "Python 3"
    },
    "language_info": {
      "name": "python"
    }
  },
  "cells": [
    {
      "cell_type": "markdown",
      "metadata": {
        "id": "view-in-github",
        "colab_type": "text"
      },
      "source": [
        "<a href=\"https://colab.research.google.com/github/Javachenlianghong/sprincloud-config/blob/main/00_pytorch_fundamentals_video.ipynb\" target=\"_parent\"><img src=\"https://colab.research.google.com/assets/colab-badge.svg\" alt=\"Open In Colab\"/></a>"
      ]
    },
    {
      "cell_type": "code",
      "source": [
        "import torch\n",
        "import pandas as pd\n",
        "import matplotlib.pyplot as plt\n",
        "import numpy as np\n",
        "\n",
        "print(torch.__version__)"
      ],
      "metadata": {
        "colab": {
          "base_uri": "https://localhost:8080/"
        },
        "id": "WCLqHKZpCC0h",
        "outputId": "20cdfaf4-fe4e-4807-dd85-643010570432"
      },
      "execution_count": 2,
      "outputs": [
        {
          "output_type": "stream",
          "name": "stdout",
          "text": [
            "2.0.1+cu118\n"
          ]
        }
      ]
    },
    {
      "cell_type": "markdown",
      "source": [
        "##介绍张量\n"
      ],
      "metadata": {
        "id": "R_kgFZZhELhp"
      }
    },
    {
      "cell_type": "code",
      "source": [
        "#Scalar\n",
        "scalar=torch.tensor(7)\n",
        "scalar"
      ],
      "metadata": {
        "colab": {
          "base_uri": "https://localhost:8080/"
        },
        "id": "ihmt7zHBCOTp",
        "outputId": "e6063243-1077-4140-9b5a-c56fd78f994a"
      },
      "execution_count": 3,
      "outputs": [
        {
          "output_type": "execute_result",
          "data": {
            "text/plain": [
              "tensor(7)"
            ]
          },
          "metadata": {},
          "execution_count": 3
        }
      ]
    },
    {
      "cell_type": "code",
      "source": [
        "scalar.ndim"
      ],
      "metadata": {
        "colab": {
          "base_uri": "https://localhost:8080/"
        },
        "id": "7nGr9XqlF28b",
        "outputId": "2bf8c3d9-1bfe-4314-8b7d-73c033df039e"
      },
      "execution_count": 4,
      "outputs": [
        {
          "output_type": "execute_result",
          "data": {
            "text/plain": [
              "0"
            ]
          },
          "metadata": {},
          "execution_count": 4
        }
      ]
    },
    {
      "cell_type": "code",
      "source": [
        "scalar.item()"
      ],
      "metadata": {
        "colab": {
          "base_uri": "https://localhost:8080/"
        },
        "id": "DL-SE08pFMdL",
        "outputId": "c8468f41-27aa-4872-9265-044bef45ba2c"
      },
      "execution_count": 5,
      "outputs": [
        {
          "output_type": "execute_result",
          "data": {
            "text/plain": [
              "7"
            ]
          },
          "metadata": {},
          "execution_count": 5
        }
      ]
    },
    {
      "cell_type": "code",
      "source": [
        "#Vector\n",
        "vector=torch.tensor([7,7])\n",
        "vector"
      ],
      "metadata": {
        "colab": {
          "base_uri": "https://localhost:8080/"
        },
        "id": "7BuBXidMFMQK",
        "outputId": "ca8f3095-39d3-41ac-a3e1-aed2782a16d1"
      },
      "execution_count": 6,
      "outputs": [
        {
          "output_type": "execute_result",
          "data": {
            "text/plain": [
              "tensor([7, 7])"
            ]
          },
          "metadata": {},
          "execution_count": 6
        }
      ]
    },
    {
      "cell_type": "code",
      "source": [
        "vector.ndim"
      ],
      "metadata": {
        "colab": {
          "base_uri": "https://localhost:8080/"
        },
        "id": "y9gl3NdoGA94",
        "outputId": "1cf2b0a9-bd43-4f3b-b4ae-d65e624c4231"
      },
      "execution_count": 7,
      "outputs": [
        {
          "output_type": "execute_result",
          "data": {
            "text/plain": [
              "1"
            ]
          },
          "metadata": {},
          "execution_count": 7
        }
      ]
    },
    {
      "cell_type": "code",
      "source": [
        "vector.shape"
      ],
      "metadata": {
        "colab": {
          "base_uri": "https://localhost:8080/"
        },
        "id": "OrffXc17GTOU",
        "outputId": "f7459cec-abb5-47bb-debd-871fe4e30e7e"
      },
      "execution_count": 8,
      "outputs": [
        {
          "output_type": "execute_result",
          "data": {
            "text/plain": [
              "torch.Size([2])"
            ]
          },
          "metadata": {},
          "execution_count": 8
        }
      ]
    },
    {
      "cell_type": "code",
      "source": [
        "# MATRIX 矩阵\n",
        "MATRIX=torch.tensor([[7,8],\n",
        "           [9,10]])\n",
        "MATRIX"
      ],
      "metadata": {
        "colab": {
          "base_uri": "https://localhost:8080/"
        },
        "id": "UPrqbeXSGa8H",
        "outputId": "c56fe61e-f8ad-457a-af6e-765d691585cf"
      },
      "execution_count": 9,
      "outputs": [
        {
          "output_type": "execute_result",
          "data": {
            "text/plain": [
              "tensor([[ 7,  8],\n",
              "        [ 9, 10]])"
            ]
          },
          "metadata": {},
          "execution_count": 9
        }
      ]
    },
    {
      "cell_type": "code",
      "source": [
        "MATRIX.ndim"
      ],
      "metadata": {
        "colab": {
          "base_uri": "https://localhost:8080/"
        },
        "id": "1PIPNjabHI5w",
        "outputId": "53da3a88-5da4-47c6-de86-53e86ef64591"
      },
      "execution_count": 10,
      "outputs": [
        {
          "output_type": "execute_result",
          "data": {
            "text/plain": [
              "2"
            ]
          },
          "metadata": {},
          "execution_count": 10
        }
      ]
    },
    {
      "cell_type": "code",
      "source": [
        "MATRIX[0]"
      ],
      "metadata": {
        "colab": {
          "base_uri": "https://localhost:8080/"
        },
        "id": "0Ra2jHxnHQme",
        "outputId": "f4bec1e0-bbef-4f87-c2ac-1194304f6d43"
      },
      "execution_count": 11,
      "outputs": [
        {
          "output_type": "execute_result",
          "data": {
            "text/plain": [
              "tensor([7, 8])"
            ]
          },
          "metadata": {},
          "execution_count": 11
        }
      ]
    },
    {
      "cell_type": "code",
      "source": [
        "MATRIX.shape#2*2"
      ],
      "metadata": {
        "colab": {
          "base_uri": "https://localhost:8080/"
        },
        "id": "pYV64V2YHXSU",
        "outputId": "d1799041-aec0-4f0a-87c3-fee04489618f"
      },
      "execution_count": 12,
      "outputs": [
        {
          "output_type": "execute_result",
          "data": {
            "text/plain": [
              "torch.Size([2, 2])"
            ]
          },
          "metadata": {},
          "execution_count": 12
        }
      ]
    },
    {
      "cell_type": "code",
      "source": [
        "#TENSOR\n",
        "TENSOR=torch.tensor([[[1,2,3],\n",
        "          [5,8,9],\n",
        "          [60,5,3]]])\n",
        "TENSOR"
      ],
      "metadata": {
        "colab": {
          "base_uri": "https://localhost:8080/"
        },
        "id": "nBicmMpOHmIG",
        "outputId": "50831391-f0a8-4028-9c1a-fbb7370d9c64"
      },
      "execution_count": 13,
      "outputs": [
        {
          "output_type": "execute_result",
          "data": {
            "text/plain": [
              "tensor([[[ 1,  2,  3],\n",
              "         [ 5,  8,  9],\n",
              "         [60,  5,  3]]])"
            ]
          },
          "metadata": {},
          "execution_count": 13
        }
      ]
    },
    {
      "cell_type": "code",
      "source": [
        "TENSOR.ndim"
      ],
      "metadata": {
        "colab": {
          "base_uri": "https://localhost:8080/"
        },
        "id": "6FV7ZcPPIUVL",
        "outputId": "9e2f9786-6752-4786-b646-d3cffa26896c"
      },
      "execution_count": 14,
      "outputs": [
        {
          "output_type": "execute_result",
          "data": {
            "text/plain": [
              "3"
            ]
          },
          "metadata": {},
          "execution_count": 14
        }
      ]
    },
    {
      "cell_type": "code",
      "source": [
        "TENSOR.shape#一个3*3的张量"
      ],
      "metadata": {
        "colab": {
          "base_uri": "https://localhost:8080/"
        },
        "id": "Mvb1WGbNIXz6",
        "outputId": "3f5fac54-8a1b-42d6-f789-23151cb0ad20"
      },
      "execution_count": 15,
      "outputs": [
        {
          "output_type": "execute_result",
          "data": {
            "text/plain": [
              "torch.Size([1, 3, 3])"
            ]
          },
          "metadata": {},
          "execution_count": 15
        }
      ]
    },
    {
      "cell_type": "markdown",
      "source": [
        "随机张量"
      ],
      "metadata": {
        "id": "Kno4sCLPL123"
      }
    },
    {
      "cell_type": "code",
      "source": [
        "random_tensor=torch.rand(3,4)\n",
        "random_tensor"
      ],
      "metadata": {
        "colab": {
          "base_uri": "https://localhost:8080/"
        },
        "id": "zUA4eYKjL7MM",
        "outputId": "d7304a7a-084a-46e5-ca10-a5c8f18c59c0"
      },
      "execution_count": 27,
      "outputs": [
        {
          "output_type": "execute_result",
          "data": {
            "text/plain": [
              "tensor([[0.7565, 0.7861, 0.3404, 0.9319],\n",
              "        [0.4032, 0.4102, 0.2377, 0.9338],\n",
              "        [0.8956, 0.5227, 0.2933, 0.9410]])"
            ]
          },
          "metadata": {},
          "execution_count": 27
        }
      ]
    },
    {
      "cell_type": "code",
      "source": [
        "random_tensor.ndim"
      ],
      "metadata": {
        "colab": {
          "base_uri": "https://localhost:8080/"
        },
        "id": "ljLCv4H2NV4r",
        "outputId": "3aaefbc8-4e00-443f-d1b8-edd14d009be4"
      },
      "execution_count": 17,
      "outputs": [
        {
          "output_type": "execute_result",
          "data": {
            "text/plain": [
              "3"
            ]
          },
          "metadata": {},
          "execution_count": 17
        }
      ]
    },
    {
      "cell_type": "code",
      "source": [
        "#创建一个和图像很像的张量或者把图片变成张量\n",
        "random_image_size_tensor=torch.rand(size=(3,224,224)) #height,width,color channels(R,B,G)\n",
        "random_image_size_tensor.shape,random_image_size_tensor.ndim\n",
        "random_image_size_tensor"
      ],
      "metadata": {
        "colab": {
          "base_uri": "https://localhost:8080/"
        },
        "id": "4992GZ40ORN0",
        "outputId": "c9d51d7d-7777-4217-aa27-116e901034ee"
      },
      "execution_count": 20,
      "outputs": [
        {
          "output_type": "execute_result",
          "data": {
            "text/plain": [
              "tensor([[[0.1003, 0.9145, 0.4515,  ..., 0.6585, 0.6159, 0.3863],\n",
              "         [0.3369, 0.4912, 0.1085,  ..., 0.3209, 0.1268, 0.7578],\n",
              "         [0.5792, 0.3681, 0.3111,  ..., 0.3172, 0.5544, 0.8283],\n",
              "         ...,\n",
              "         [0.0228, 0.6098, 0.6372,  ..., 0.8299, 0.1123, 0.8441],\n",
              "         [0.5538, 0.1268, 0.8599,  ..., 0.4698, 0.8854, 0.4949],\n",
              "         [0.5016, 0.4487, 0.7721,  ..., 0.7802, 0.9805, 0.0164]],\n",
              "\n",
              "        [[0.1150, 0.5839, 0.2186,  ..., 0.3268, 0.7162, 0.4575],\n",
              "         [0.0060, 0.3178, 0.9382,  ..., 0.5691, 0.5770, 0.7327],\n",
              "         [0.0366, 0.6603, 0.4377,  ..., 0.8764, 0.5865, 0.0349],\n",
              "         ...,\n",
              "         [0.6519, 0.3877, 0.9177,  ..., 0.4217, 0.3291, 0.7649],\n",
              "         [0.7333, 0.3204, 0.2177,  ..., 0.4951, 0.9706, 0.0048],\n",
              "         [0.9425, 0.7272, 0.0459,  ..., 0.7711, 0.2734, 0.4996]],\n",
              "\n",
              "        [[0.1581, 0.0636, 0.3895,  ..., 0.1723, 0.4484, 0.6005],\n",
              "         [0.4583, 0.2101, 0.0464,  ..., 0.9393, 0.2679, 0.0461],\n",
              "         [0.9246, 0.5472, 0.1702,  ..., 0.6023, 0.8586, 0.9469],\n",
              "         ...,\n",
              "         [0.8367, 0.8649, 0.2609,  ..., 0.9733, 0.9000, 0.2694],\n",
              "         [0.4136, 0.9663, 0.8413,  ..., 0.8435, 0.3500, 0.7403],\n",
              "         [0.4044, 0.7143, 0.0106,  ..., 0.4989, 0.0602, 0.4558]]])"
            ]
          },
          "metadata": {},
          "execution_count": 20
        }
      ]
    },
    {
      "cell_type": "markdown",
      "source": [
        "Zeros  and ones"
      ],
      "metadata": {
        "id": "jJ4IbG2SQ_mV"
      }
    },
    {
      "cell_type": "code",
      "source": [
        "#创建全为0的张量\n",
        "zeros=torch.zeros(size=(3,4))\n",
        "zeros"
      ],
      "metadata": {
        "colab": {
          "base_uri": "https://localhost:8080/"
        },
        "id": "2N0u8KzXRAfq",
        "outputId": "a72295b9-623b-4492-ba4d-7ded5057f5db"
      },
      "execution_count": 22,
      "outputs": [
        {
          "output_type": "execute_result",
          "data": {
            "text/plain": [
              "tensor([[0., 0., 0., 0.],\n",
              "        [0., 0., 0., 0.],\n",
              "        [0., 0., 0., 0.]])"
            ]
          },
          "metadata": {},
          "execution_count": 22
        }
      ]
    },
    {
      "cell_type": "code",
      "source": [
        "random_tensor*zeros   #张量的大小要一致"
      ],
      "metadata": {
        "colab": {
          "base_uri": "https://localhost:8080/"
        },
        "id": "XJzuZG3PRaBl",
        "outputId": "53d32180-b08f-4c4d-ed89-8e8bb06142e2"
      },
      "execution_count": 28,
      "outputs": [
        {
          "output_type": "execute_result",
          "data": {
            "text/plain": [
              "tensor([[0., 0., 0., 0.],\n",
              "        [0., 0., 0., 0.],\n",
              "        [0., 0., 0., 0.]])"
            ]
          },
          "metadata": {},
          "execution_count": 28
        }
      ]
    },
    {
      "cell_type": "code",
      "source": [
        "#创建全为一的张量\n",
        "ones=torch.ones(size=(3,4))\n",
        "ones"
      ],
      "metadata": {
        "colab": {
          "base_uri": "https://localhost:8080/"
        },
        "id": "jCLRWTfhR5MV",
        "outputId": "c0cb45b1-b02d-4809-bc65-c7e4a2b5c8f6"
      },
      "execution_count": 29,
      "outputs": [
        {
          "output_type": "execute_result",
          "data": {
            "text/plain": [
              "tensor([[1., 1., 1., 1.],\n",
              "        [1., 1., 1., 1.],\n",
              "        [1., 1., 1., 1.]])"
            ]
          },
          "metadata": {},
          "execution_count": 29
        }
      ]
    },
    {
      "cell_type": "code",
      "source": [
        "ones.dtype"
      ],
      "metadata": {
        "colab": {
          "base_uri": "https://localhost:8080/"
        },
        "id": "6REO4xiiS5L8",
        "outputId": "fdc665bd-7785-437e-df02-e6de57f0c39f"
      },
      "execution_count": 30,
      "outputs": [
        {
          "output_type": "execute_result",
          "data": {
            "text/plain": [
              "torch.float32"
            ]
          },
          "metadata": {},
          "execution_count": 30
        }
      ]
    },
    {
      "cell_type": "code",
      "source": [
        "random_tensor.dtype"
      ],
      "metadata": {
        "colab": {
          "base_uri": "https://localhost:8080/"
        },
        "id": "DJ8r_UlgTBh0",
        "outputId": "3b6e942c-454d-4f1f-bccb-76fb35d54694"
      },
      "execution_count": 31,
      "outputs": [
        {
          "output_type": "execute_result",
          "data": {
            "text/plain": [
              "torch.float32"
            ]
          },
          "metadata": {},
          "execution_count": 31
        }
      ]
    },
    {
      "cell_type": "code",
      "source": [
        "#创建随机范围的张量\n",
        "#torch.range()已经弃用，使用torch.arange()\n",
        "one_to_ten=torch.arange(start=1,end=10,step=2) #start 开始 end  结束  step  步距\n",
        "one_to_ten"
      ],
      "metadata": {
        "colab": {
          "base_uri": "https://localhost:8080/"
        },
        "id": "0m4mv0vZTs1Q",
        "outputId": "d5a7759b-3bd3-4864-988f-fdbeadd5478d"
      },
      "execution_count": 42,
      "outputs": [
        {
          "output_type": "execute_result",
          "data": {
            "text/plain": [
              "tensor([1, 3, 5, 7, 9])"
            ]
          },
          "metadata": {},
          "execution_count": 42
        }
      ]
    },
    {
      "cell_type": "code",
      "source": [
        "#创建一个相似的张量\n",
        "ten_zeros =torch.zeros_like(input=one_to_ten) #生成形状相同的张量\n",
        "ten_zeros"
      ],
      "metadata": {
        "colab": {
          "base_uri": "https://localhost:8080/"
        },
        "id": "Zjt6nmaxVVIK",
        "outputId": "9cf29ceb-adb9-43ab-c65c-d32ca3c2718a"
      },
      "execution_count": 43,
      "outputs": [
        {
          "output_type": "execute_result",
          "data": {
            "text/plain": [
              "tensor([0, 0, 0, 0, 0])"
            ]
          },
          "metadata": {},
          "execution_count": 43
        }
      ]
    },
    {
      "cell_type": "markdown",
      "source": [
        "tensor datatypes"
      ],
      "metadata": {
        "id": "zX18IDsBW9Od"
      }
    },
    {
      "cell_type": "code",
      "source": [
        "from typing_extensions import Required\n",
        "#Float 32 tensor\n",
        "float_32_tensor=torch.tensor([3.0,5.0,4.6],\n",
        "              dtype=None,  #数据类型  float16 float32\n",
        "              device=None, #选择设备  cpu or cuda 张量的计算要在同一设备上\n",
        "              requires_grad=False)  #是否跟踪梯度\n",
        "float_32_tensor"
      ],
      "metadata": {
        "colab": {
          "base_uri": "https://localhost:8080/"
        },
        "id": "LlXhmAwvW8eo",
        "outputId": "731f6001-b56a-4e04-f538-86974e134c73"
      },
      "execution_count": 45,
      "outputs": [
        {
          "output_type": "execute_result",
          "data": {
            "text/plain": [
              "tensor([3.0000, 5.0000, 4.6000])"
            ]
          },
          "metadata": {},
          "execution_count": 45
        }
      ]
    },
    {
      "cell_type": "markdown",
      "source": [
        "张量的操作\n",
        "加，减，乘，除"
      ],
      "metadata": {
        "id": "M8mq_Jrcggyw"
      }
    },
    {
      "cell_type": "code",
      "source": [
        "#加\n",
        "tensor=torch.tensor([1,2,3])\n",
        "tensor + 100"
      ],
      "metadata": {
        "colab": {
          "base_uri": "https://localhost:8080/"
        },
        "id": "iHyjyrNzggDm",
        "outputId": "712b72b6-7492-4692-e305-7189b2b2f265"
      },
      "execution_count": 47,
      "outputs": [
        {
          "output_type": "execute_result",
          "data": {
            "text/plain": [
              "tensor([101, 102, 103])"
            ]
          },
          "metadata": {},
          "execution_count": 47
        }
      ]
    },
    {
      "cell_type": "code",
      "source": [
        "#乘\n",
        "tensor * 10"
      ],
      "metadata": {
        "colab": {
          "base_uri": "https://localhost:8080/"
        },
        "id": "lKNFzc_2hUNK",
        "outputId": "9a93f038-f132-4148-c581-b2915ce3c81c"
      },
      "execution_count": 48,
      "outputs": [
        {
          "output_type": "execute_result",
          "data": {
            "text/plain": [
              "tensor([10, 20, 30])"
            ]
          },
          "metadata": {},
          "execution_count": 48
        }
      ]
    },
    {
      "cell_type": "code",
      "source": [
        "#并没有改变原来的值\n",
        "tensor"
      ],
      "metadata": {
        "colab": {
          "base_uri": "https://localhost:8080/"
        },
        "id": "-w47sHnehbrb",
        "outputId": "d1eda622-5a03-4efe-9d03-33b967eaba18"
      },
      "execution_count": 52,
      "outputs": [
        {
          "output_type": "execute_result",
          "data": {
            "text/plain": [
              "tensor([100, 200, 300])"
            ]
          },
          "metadata": {},
          "execution_count": 52
        }
      ]
    },
    {
      "cell_type": "code",
      "source": [
        "tensor=tensor * 10\n",
        "tensor"
      ],
      "metadata": {
        "colab": {
          "base_uri": "https://localhost:8080/"
        },
        "id": "MC9nuyY_hntk",
        "outputId": "c066f7fe-852e-4b7f-914a-467e155caaba"
      },
      "execution_count": 51,
      "outputs": [
        {
          "output_type": "execute_result",
          "data": {
            "text/plain": [
              "tensor([100, 200, 300])"
            ]
          },
          "metadata": {},
          "execution_count": 51
        }
      ]
    },
    {
      "cell_type": "code",
      "source": [
        "#减\n",
        "tensor-10"
      ],
      "metadata": {
        "colab": {
          "base_uri": "https://localhost:8080/"
        },
        "id": "lz5jXhBfiQGp",
        "outputId": "65b58b03-60ce-4cdb-c4ac-0200617a7992"
      },
      "execution_count": 53,
      "outputs": [
        {
          "output_type": "execute_result",
          "data": {
            "text/plain": [
              "tensor([ 90, 190, 290])"
            ]
          },
          "metadata": {},
          "execution_count": 53
        }
      ]
    },
    {
      "cell_type": "code",
      "source": [
        "#乘\n",
        "torch.mul(tensor,10)\n",
        "torch.add(tensor,10)"
      ],
      "metadata": {
        "colab": {
          "base_uri": "https://localhost:8080/"
        },
        "id": "L-kSzzvOicw_",
        "outputId": "2dab1514-86d4-4aeb-e5be-265c620f918f"
      },
      "execution_count": 58,
      "outputs": [
        {
          "output_type": "execute_result",
          "data": {
            "text/plain": [
              "tensor([110, 210, 310])"
            ]
          },
          "metadata": {},
          "execution_count": 58
        }
      ]
    },
    {
      "cell_type": "code",
      "source": [
        "tensor"
      ],
      "metadata": {
        "colab": {
          "base_uri": "https://localhost:8080/"
        },
        "id": "mos1od_tirpa",
        "outputId": "7ee54eee-d28c-4968-dc59-4180e917b039"
      },
      "execution_count": 57,
      "outputs": [
        {
          "output_type": "execute_result",
          "data": {
            "text/plain": [
              "tensor([100, 200, 300])"
            ]
          },
          "metadata": {},
          "execution_count": 57
        }
      ]
    },
    {
      "cell_type": "code",
      "source": [
        "#矩阵乘法\n",
        "#您可以手动进行矩阵乘法，但不建议这样做。\n",
        "#内置方法更快。torch.matmul()"
      ],
      "metadata": {
        "id": "pCUvTn-JjWis"
      },
      "execution_count": 59,
      "outputs": []
    }
  ]
}